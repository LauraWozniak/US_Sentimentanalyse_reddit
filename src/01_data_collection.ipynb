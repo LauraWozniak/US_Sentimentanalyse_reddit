{
 "cells": [
  {
   "cell_type": "code",
   "id": "initial_id",
   "metadata": {
    "collapsed": true,
    "ExecuteTime": {
     "end_time": "2025-06-27T00:44:19.673417Z",
     "start_time": "2025-06-27T00:44:19.654400Z"
    }
   },
   "source": [
    "from Tools.scripts.generate_opcode_h import header\n",
    "with open('cred/Client_id.txt.gitignore', 'r') as f:\n",
    "CLIENT_ID = f.read()\n",
    "with open('cred/Key.txt.gitignore', 'r') as f:\n",
    "SECRET_KEY = f.read()"
   ],
   "outputs": [],
   "execution_count": 79
  },
  {
   "metadata": {
    "ExecuteTime": {
     "end_time": "2025-06-27T00:44:19.689084Z",
     "start_time": "2025-06-27T00:44:19.677421Z"
    }
   },
   "cell_type": "code",
   "source": "import requests",
   "id": "7312bcc09d5c6554",
   "outputs": [],
   "execution_count": 80
  },
  {
   "metadata": {
    "ExecuteTime": {
     "end_time": "2025-06-27T00:44:19.720113Z",
     "start_time": "2025-06-27T00:44:19.706100Z"
    }
   },
   "cell_type": "code",
   "source": "auth = requests.auth.HTTPBasicAuth(CLIENT_ID, SECRET_KEY)",
   "id": "4dabeb681f4c21a4",
   "outputs": [],
   "execution_count": 81
  },
  {
   "metadata": {
    "ExecuteTime": {
     "end_time": "2025-06-27T00:44:19.752142Z",
     "start_time": "2025-06-27T00:44:19.737129Z"
    }
   },
   "cell_type": "code",
   "source": [
    "with open('cred/pw.txt.gitignore', 'r') as f:\n",
    "    pw = f.read()\n",
    "with open('cred/un.txt.gitignore', 'r') as f:\n",
    "    un = f.read()"
   ],
   "id": "e3625918e0f6b530",
   "outputs": [],
   "execution_count": 82
  },
  {
   "metadata": {
    "ExecuteTime": {
     "end_time": "2025-06-27T00:44:19.783016Z",
     "start_time": "2025-06-27T00:44:19.770003Z"
    }
   },
   "cell_type": "code",
   "source": [
    "data = {\n",
    "    'duration' : 'permanent',\n",
    "    'grant_type': 'password',\n",
    "    'username': un,\n",
    "    'password': pw,\n",
    "}"
   ],
   "id": "5eed71ccb96077db",
   "outputs": [],
   "execution_count": 83
  },
  {
   "metadata": {
    "ExecuteTime": {
     "end_time": "2025-06-27T00:44:19.813043Z",
     "start_time": "2025-06-27T00:44:19.799029Z"
    }
   },
   "cell_type": "code",
   "source": "headers = {'User-Agent': 'MyAPI/0.0.1'}",
   "id": "ab4ef00ba013dedd",
   "outputs": [],
   "execution_count": 84
  },
  {
   "metadata": {
    "ExecuteTime": {
     "end_time": "2025-06-27T00:44:20.830085Z",
     "start_time": "2025-06-27T00:44:19.831059Z"
    }
   },
   "cell_type": "code",
   "source": [
    "res = requests.post(\n",
    "    'https://www.reddit.com/api/v1/access_token',\n",
    "    auth=auth,\n",
    "    data=data,\n",
    "    headers=headers\n",
    ")"
   ],
   "id": "2eea6bee48e528f7",
   "outputs": [],
   "execution_count": 85
  },
  {
   "metadata": {
    "ExecuteTime": {
     "end_time": "2025-06-27T00:44:20.861113Z",
     "start_time": "2025-06-27T00:44:20.847101Z"
    }
   },
   "cell_type": "code",
   "source": [
    "if res.status_code != 200:\n",
    "    print(\"Authentication failed!\", res.text)\n",
    "else:\n",
    "    print(\"Authenticated successfully!\")"
   ],
   "id": "5305582212ef50b2",
   "outputs": [
    {
     "name": "stdout",
     "output_type": "stream",
     "text": [
      "Authenticated successfully!\n"
     ]
    }
   ],
   "execution_count": 86
  },
  {
   "metadata": {
    "ExecuteTime": {
     "end_time": "2025-06-27T00:44:20.956200Z",
     "start_time": "2025-06-27T00:44:20.939185Z"
    }
   },
   "cell_type": "code",
   "source": "TOKEN = res.json()['access_token']",
   "id": "5399cee66f6daac5",
   "outputs": [],
   "execution_count": 87
  },
  {
   "metadata": {
    "ExecuteTime": {
     "end_time": "2025-06-27T00:44:20.988026Z",
     "start_time": "2025-06-27T00:44:20.973014Z"
    }
   },
   "cell_type": "code",
   "source": "headers['Authorization'] = f'Bearer {TOKEN}'",
   "id": "8dee6754cfe56fea",
   "outputs": [],
   "execution_count": 88
  },
  {
   "metadata": {
    "ExecuteTime": {
     "end_time": "2025-06-27T00:44:21.332819Z",
     "start_time": "2025-06-27T00:44:21.006045Z"
    }
   },
   "cell_type": "code",
   "source": [
    "response = requests.get('https://oauth.reddit.com/api/v1/me', headers=headers)\n",
    "print(response.status_code)\n",
    "print(response.json())\n"
   ],
   "id": "4f4d359ad06b0fd",
   "outputs": [
    {
     "name": "stdout",
     "output_type": "stream",
     "text": [
      "200\n",
      "{'is_employee': False, 'seen_layout_switch': False, 'has_visited_new_profile': False, 'pref_no_profanity': True, 'has_external_account': False, 'pref_geopopular': 'GLOBAL', 'seen_redesign_modal': False, 'pref_show_trending': True, 'subreddit': {'default_set': True, 'user_is_contributor': False, 'banner_img': '', 'restrict_posting': True, 'user_is_banned': False, 'free_form_reports': True, 'community_icon': None, 'show_media': True, 'icon_color': '', 'user_is_muted': None, 'display_name': 'u_Ourbatshitt', 'header_img': None, 'title': '', 'coins': 0, 'previous_names': [], 'over_18': False, 'icon_size': [256, 256], 'primary_color': '', 'icon_img': 'https://styles.redditmedia.com/t5_5qzimb/styles/profileIcon_snooe81a9980-71d8-4876-a728-302668acde10-headshot.png?width=256&amp;height=256&amp;crop=256:256,smart&amp;s=6a532fdfb6ea337b1f9196908d6a24f482937ea4', 'description': '', 'allowed_media_in_comments': [], 'submit_link_label': '', 'header_size': None, 'restrict_commenting': False, 'subscribers': 0, 'submit_text_label': '', 'is_default_icon': False, 'link_flair_position': '', 'display_name_prefixed': 'u/Ourbatshitt', 'key_color': '', 'name': 't5_5qzimb', 'is_default_banner': True, 'url': '/user/Ourbatshitt/', 'quarantine': False, 'banner_size': None, 'user_is_moderator': True, 'accept_followers': True, 'public_description': '', 'link_flair_enabled': False, 'disable_contributor_requests': False, 'subreddit_type': 'user', 'user_is_subscriber': False}, 'pref_show_presence': False, 'snoovatar_img': 'https://i.redd.it/snoovatar/avatars/e81a9980-71d8-4876-a728-302668acde10.png', 'snoovatar_size': [380, 600], 'gold_expiration': None, 'has_gold_subscription': False, 'is_sponsor': False, 'num_friends': 0, 'features': {'modmail_harassment_filter': True, 'mod_service_mute_writes': True, 'promoted_trend_blanks': True, 'show_amp_link': True, 'is_email_permission_required': True, 'mod_awards': True, 'mweb_xpromo_revamp_v3': {'owner': 'growth', 'variant': 'control_2', 'experiment_id': 480}, 'mweb_xpromo_revamp_v2': {'owner': 'growth', 'variant': 'control_2', 'experiment_id': 457}, 'awards_on_streams': True, 'mweb_xpromo_modal_listing_click_daily_dismissible_ios': True, 'chat_subreddit': True, 'cookie_consent_banner': True, 'modlog_copyright_removal': True, 'do_not_track': True, 'images_in_comments': True, 'mod_service_mute_reads': True, 'chat_user_settings': True, 'use_pref_account_deployment': True, 'mweb_xpromo_interstitial_comments_ios': True, 'mweb_xpromo_modal_listing_click_daily_dismissible_android': True, 'premium_subscriptions_table': True, 'mweb_xpromo_interstitial_comments_android': True, 'crowd_control_for_post': True, 'mweb_sharing_web_share_api': {'owner': 'growth', 'variant': 'control_1', 'experiment_id': 314}, 'chat_group_rollout': True, 'resized_styles_images': True, 'noreferrer_to_noopener': True, 'expensive_coins_package': True}, 'can_edit_name': False, 'verified': True, 'new_modmail_exists': None, 'pref_autoplay': True, 'coins': 0, 'has_paypal_subscription': False, 'has_subscribed_to_premium': False, 'id': 'j2nv7m2x', 'has_stripe_subscription': False, 'oauth_client_id': 'e73ENEMoy5wQEAEtHNRD5A', 'can_create_subreddit': True, 'over_18': True, 'is_gold': False, 'is_mod': False, 'awarder_karma': 0, 'suspension_expiration_utc': None, 'has_verified_email': True, 'is_suspended': False, 'pref_video_autoplay': True, 'has_android_subscription': False, 'in_redesign_beta': True, 'icon_img': 'https://styles.redditmedia.com/t5_5qzimb/styles/profileIcon_snooe81a9980-71d8-4876-a728-302668acde10-headshot.png?width=256&amp;height=256&amp;crop=256:256,smart&amp;s=6a532fdfb6ea337b1f9196908d6a24f482937ea4', 'has_mod_mail': False, 'pref_nightmode': True, 'awardee_karma': 0, 'hide_from_robots': False, 'password_set': True, 'link_karma': 1781, 'force_password_reset': False, 'total_karma': 2611, 'seen_give_award_tooltip': False, 'inbox_count': 252, 'seen_premium_adblock_modal': False, 'pref_top_karma_subreddits': True, 'has_mail': True, 'pref_show_snoovatar': False, 'name': 'Ourbatshitt', 'pref_clickgadget': 5, 'created': 1643284452.0, 'gold_creddits': 0, 'created_utc': 1643284452.0, 'has_ios_subscription': False, 'pref_show_twitter': False, 'in_beta': False, 'comment_karma': 830, 'accept_followers': True, 'has_subscribed': True, 'linked_identities': [], 'seen_subreddit_chat_ftux': False}\n"
     ]
    }
   ],
   "execution_count": 89
  },
  {
   "metadata": {
    "ExecuteTime": {
     "end_time": "2025-06-27T00:44:22.102232Z",
     "start_time": "2025-06-27T00:44:21.349834Z"
    }
   },
   "cell_type": "code",
   "source": [
    "res = requests.get('https://oauth.reddit.com/r/MogelPackung/hot',\n",
    "                 headers=headers)"
   ],
   "id": "6af0bdcc69433c9",
   "outputs": [],
   "execution_count": 90
  },
  {
   "metadata": {
    "ExecuteTime": {
     "end_time": "2025-06-27T00:44:22.133066Z",
     "start_time": "2025-06-27T00:44:22.119054Z"
    }
   },
   "cell_type": "code",
   "source": [
    "for post in res.json()['data']['children']:\n",
    "    print(post['data']['title'])"
   ],
   "id": "24622a6b896ad7bd",
   "outputs": [
    {
     "name": "stdout",
     "output_type": "stream",
     "text": [
      "Haribo\n",
      "Die haben in der Fabrik aus meiner Cola gesoffen!\n",
      "Jetzt auch bei Gemüsebrühe: 20% weniger Inhalt!\n",
      "Keine Schokolade?!?\n",
      "Jetzt reicht's aber hier\n",
      "Mogelpackung bei der Schanzenbäckerei - Knusperhähnchen-Schnitzelbrötchen nur noch halb so gut? 😡\n",
      "Zählt das?\n",
      "Homann weniger Inhalt\n",
      "Hobnob Flapjacks\n",
      "Ist das schon Diebstahl?\n",
      "Räucherlachs 93g statt 100g\n",
      "Süßstoff verdünnt?\n",
      "ja! Wiener Würstchen\n",
      "Rewe - \"näher geht's nicht, frischer geht's nicht\" Werbung\n",
      "MAOAM fängt auch damit an\n",
      "PU-Schaum\n",
      "Aso\n",
      "50% Luft\n",
      "Bemerkt bei mir auf der Arbeit, zählt es?\n",
      "Ich ruf gleich den Verbraucherschutz\n",
      "Kirchliche Mogelpackung\n",
      "Positiv: Zu viel Volumen muss nicht sein\n",
      "Zählt das?\n",
      "4,7 Stücken Wurst. Die Sauce in einem Stück auf dem anderen Ende der \"Pizza\".\n",
      "Zwei Mogeleien auf einen Streich\n"
     ]
    }
   ],
   "execution_count": 91
  },
  {
   "metadata": {
    "ExecuteTime": {
     "end_time": "2025-06-27T00:45:13.354688Z",
     "start_time": "2025-06-27T00:45:13.346682Z"
    }
   },
   "cell_type": "code",
   "source": "import pandas as pd",
   "id": "be9e309f600b9045",
   "outputs": [],
   "execution_count": 98
  },
  {
   "metadata": {
    "ExecuteTime": {
     "end_time": "2025-06-27T00:45:13.960723Z",
     "start_time": "2025-06-27T00:45:13.945710Z"
    }
   },
   "cell_type": "code",
   "source": "df = pd.DataFrame()",
   "id": "56e0e45571ea0a2a",
   "outputs": [],
   "execution_count": 99
  },
  {
   "metadata": {
    "ExecuteTime": {
     "end_time": "2025-06-27T01:24:50.922522Z",
     "start_time": "2025-06-27T01:24:50.899501Z"
    }
   },
   "cell_type": "code",
   "source": [
    "posts = []\n",
    "\n",
    "for post in res.json()['data']['children']:\n",
    "    data = post['data']\n",
    "    posts.append({\n",
    "        'title': data['title'],\n",
    "        'subreddit': data['subreddit'],\n",
    "        'score': data['score'],\n",
    "        'upvote_ratio': data['upvote_ratio'],\n",
    "        'author': data['author'],\n",
    "        'num_comments': data['num_comments'],\n",
    "        'created_utc': data['created_utc'],\n",
    "        'selftext': data['selftext'],\n",
    "        'permalink': f\"https://reddit.com{data['permalink']}\"\n",
    "    })\n",
    "df = pd.DataFrame(posts)\n",
    "df.head()\n",
    "df.to_csv(\"data/raw/reddit_posts.csv\", index=False)"
   ],
   "id": "d9ca8ca146c04f67",
   "outputs": [
    {
     "data": {
      "text/plain": [
       "                                               title     subreddit  score  \\\n",
       "0                                             Haribo  MogelPackung     89   \n",
       "1  Die haben in der Fabrik aus meiner Cola gesoffen!  MogelPackung     27   \n",
       "2    Jetzt auch bei Gemüsebrühe: 20% weniger Inhalt!  MogelPackung      0   \n",
       "3                                Keine Schokolade?!?  MogelPackung      0   \n",
       "4                           Jetzt reicht's aber hier  MogelPackung   1587   \n",
       "\n",
       "   upvote_ratio               author  num_comments   created_utc  \\\n",
       "0          0.92   Agreeable-Slip-884            26  1.750872e+09   \n",
       "1          0.74  Sweet-Highlight3205            25  1.750879e+09   \n",
       "2          0.30            Rhodianer             6  1.750941e+09   \n",
       "3          0.41    Far_Squirrel_6148            18  1.750913e+09   \n",
       "4          0.98            Luis_9466            79  1.750673e+09   \n",
       "\n",
       "                                            selftext  \\\n",
       "0  Von 37 cm Verpackung sind 54 % Luft. Toll star...   \n",
       "1                                                      \n",
       "2  Gerade aufgemacht, aber ein Fabrikmitarbeiter ...   \n",
       "3  Meine erste Begegnung mit ChoViva, der kakaofr...   \n",
       "4                                                      \n",
       "\n",
       "                                           permalink  \n",
       "0  https://reddit.com/r/MogelPackung/comments/1lk...  \n",
       "1  https://reddit.com/r/MogelPackung/comments/1lk...  \n",
       "2  https://reddit.com/r/MogelPackung/comments/1lk...  \n",
       "3  https://reddit.com/r/MogelPackung/comments/1lk...  \n",
       "4  https://reddit.com/r/MogelPackung/comments/1li...  "
      ],
      "text/html": [
       "<div>\n",
       "<style scoped>\n",
       "    .dataframe tbody tr th:only-of-type {\n",
       "        vertical-align: middle;\n",
       "    }\n",
       "\n",
       "    .dataframe tbody tr th {\n",
       "        vertical-align: top;\n",
       "    }\n",
       "\n",
       "    .dataframe thead th {\n",
       "        text-align: right;\n",
       "    }\n",
       "</style>\n",
       "<table border=\"1\" class=\"dataframe\">\n",
       "  <thead>\n",
       "    <tr style=\"text-align: right;\">\n",
       "      <th></th>\n",
       "      <th>title</th>\n",
       "      <th>subreddit</th>\n",
       "      <th>score</th>\n",
       "      <th>upvote_ratio</th>\n",
       "      <th>author</th>\n",
       "      <th>num_comments</th>\n",
       "      <th>created_utc</th>\n",
       "      <th>selftext</th>\n",
       "      <th>permalink</th>\n",
       "    </tr>\n",
       "  </thead>\n",
       "  <tbody>\n",
       "    <tr>\n",
       "      <th>0</th>\n",
       "      <td>Haribo</td>\n",
       "      <td>MogelPackung</td>\n",
       "      <td>89</td>\n",
       "      <td>0.92</td>\n",
       "      <td>Agreeable-Slip-884</td>\n",
       "      <td>26</td>\n",
       "      <td>1.750872e+09</td>\n",
       "      <td>Von 37 cm Verpackung sind 54 % Luft. Toll star...</td>\n",
       "      <td>https://reddit.com/r/MogelPackung/comments/1lk...</td>\n",
       "    </tr>\n",
       "    <tr>\n",
       "      <th>1</th>\n",
       "      <td>Die haben in der Fabrik aus meiner Cola gesoffen!</td>\n",
       "      <td>MogelPackung</td>\n",
       "      <td>27</td>\n",
       "      <td>0.74</td>\n",
       "      <td>Sweet-Highlight3205</td>\n",
       "      <td>25</td>\n",
       "      <td>1.750879e+09</td>\n",
       "      <td></td>\n",
       "      <td>https://reddit.com/r/MogelPackung/comments/1lk...</td>\n",
       "    </tr>\n",
       "    <tr>\n",
       "      <th>2</th>\n",
       "      <td>Jetzt auch bei Gemüsebrühe: 20% weniger Inhalt!</td>\n",
       "      <td>MogelPackung</td>\n",
       "      <td>0</td>\n",
       "      <td>0.30</td>\n",
       "      <td>Rhodianer</td>\n",
       "      <td>6</td>\n",
       "      <td>1.750941e+09</td>\n",
       "      <td>Gerade aufgemacht, aber ein Fabrikmitarbeiter ...</td>\n",
       "      <td>https://reddit.com/r/MogelPackung/comments/1lk...</td>\n",
       "    </tr>\n",
       "    <tr>\n",
       "      <th>3</th>\n",
       "      <td>Keine Schokolade?!?</td>\n",
       "      <td>MogelPackung</td>\n",
       "      <td>0</td>\n",
       "      <td>0.41</td>\n",
       "      <td>Far_Squirrel_6148</td>\n",
       "      <td>18</td>\n",
       "      <td>1.750913e+09</td>\n",
       "      <td>Meine erste Begegnung mit ChoViva, der kakaofr...</td>\n",
       "      <td>https://reddit.com/r/MogelPackung/comments/1lk...</td>\n",
       "    </tr>\n",
       "    <tr>\n",
       "      <th>4</th>\n",
       "      <td>Jetzt reicht's aber hier</td>\n",
       "      <td>MogelPackung</td>\n",
       "      <td>1587</td>\n",
       "      <td>0.98</td>\n",
       "      <td>Luis_9466</td>\n",
       "      <td>79</td>\n",
       "      <td>1.750673e+09</td>\n",
       "      <td></td>\n",
       "      <td>https://reddit.com/r/MogelPackung/comments/1li...</td>\n",
       "    </tr>\n",
       "  </tbody>\n",
       "</table>\n",
       "</div>"
      ]
     },
     "execution_count": 108,
     "metadata": {},
     "output_type": "execute_result"
    }
   ],
   "execution_count": 108
  },
  {
   "metadata": {
    "ExecuteTime": {
     "end_time": "2025-06-27T01:29:33.645314Z",
     "start_time": "2025-06-27T01:29:23.792427Z"
    }
   },
   "cell_type": "code",
   "source": [
    "import time\n",
    "\n",
    "all_comments = []\n",
    "\n",
    "for post in posts:\n",
    "    post_id = post['permalink'].split('/')[-3]  # Extract post ID from permalink\n",
    "    \n",
    "    url = f\"https://oauth.reddit.com/comments/{post_id}\"\n",
    "    response = requests.get(url, headers=headers, params={\"limit\": 20})  # limit number of comments\n",
    "    time.sleep(1)  # Respect API rate limits\n",
    "    \n",
    "    if response.status_code == 200:\n",
    "        json_response = response.json()\n",
    "        comments = json_response[1]['data']['children']\n",
    "\n",
    "        for comment in comments:\n",
    "            if comment['kind'] == 't1':  # t1 = comment\n",
    "                data = comment['data']\n",
    "                all_comments.append({\n",
    "                    'post_title': post['title'],\n",
    "                    'post_subreddit': post['subreddit'],\n",
    "                    'comment_body': data.get('body', ''),\n",
    "                    'comment_author': data.get('author', ''),\n",
    "                    'score': data.get('score', 0),\n",
    "                    'created_utc': data.get('created_utc', 0),\n",
    "                    'post_permalink': post['permalink'],\n",
    "                })\n",
    "df_comments = pd.DataFrame(all_comments)\n",
    "df_comments.head()\n",
    "df_comments.to_csv(\"data/raw/reddit_comments.csv\", index=False)"
   ],
   "id": "226b9b66d4a2b48e",
   "outputs": [
    {
     "ename": "KeyboardInterrupt",
     "evalue": "",
     "output_type": "error",
     "traceback": [
      "\u001B[1;31m---------------------------------------------------------------------------\u001B[0m",
      "\u001B[1;31mKeyboardInterrupt\u001B[0m                         Traceback (most recent call last)",
      "Cell \u001B[1;32mIn[109], line 10\u001B[0m\n\u001B[0;32m      8\u001B[0m url \u001B[38;5;241m=\u001B[39m \u001B[38;5;124mf\u001B[39m\u001B[38;5;124m\"\u001B[39m\u001B[38;5;124mhttps://oauth.reddit.com/comments/\u001B[39m\u001B[38;5;132;01m{\u001B[39;00mpost_id\u001B[38;5;132;01m}\u001B[39;00m\u001B[38;5;124m\"\u001B[39m\n\u001B[0;32m      9\u001B[0m response \u001B[38;5;241m=\u001B[39m requests\u001B[38;5;241m.\u001B[39mget(url, headers\u001B[38;5;241m=\u001B[39mheaders, params\u001B[38;5;241m=\u001B[39m{\u001B[38;5;124m\"\u001B[39m\u001B[38;5;124mlimit\u001B[39m\u001B[38;5;124m\"\u001B[39m: \u001B[38;5;241m20\u001B[39m})  \u001B[38;5;66;03m# limit number of comments\u001B[39;00m\n\u001B[1;32m---> 10\u001B[0m \u001B[43mtime\u001B[49m\u001B[38;5;241;43m.\u001B[39;49m\u001B[43msleep\u001B[49m\u001B[43m(\u001B[49m\u001B[38;5;241;43m1\u001B[39;49m\u001B[43m)\u001B[49m  \u001B[38;5;66;03m# Respect API rate limits\u001B[39;00m\n\u001B[0;32m     12\u001B[0m \u001B[38;5;28;01mif\u001B[39;00m response\u001B[38;5;241m.\u001B[39mstatus_code \u001B[38;5;241m==\u001B[39m \u001B[38;5;241m200\u001B[39m:\n\u001B[0;32m     13\u001B[0m     json_response \u001B[38;5;241m=\u001B[39m response\u001B[38;5;241m.\u001B[39mjson()\n",
      "\u001B[1;31mKeyboardInterrupt\u001B[0m: "
     ]
    }
   ],
   "execution_count": 109
  },
  {
   "metadata": {
    "ExecuteTime": {
     "end_time": "2025-06-27T01:32:50.378275Z",
     "start_time": "2025-06-27T01:32:46.691203Z"
    }
   },
   "cell_type": "code",
   "source": "pip install praw",
   "id": "c4070cfc19e5a122",
   "outputs": [
    {
     "name": "stdout",
     "output_type": "stream",
     "text": [
      "Collecting praw\n",
      "  Obtaining dependency information for praw from https://files.pythonhosted.org/packages/73/ca/60ec131c3b43bff58261167045778b2509b83922ce8f935ac89d871bd3ea/praw-7.8.1-py3-none-any.whl.metadata\n",
      "  Downloading praw-7.8.1-py3-none-any.whl.metadata (9.4 kB)\n",
      "Collecting prawcore<3,>=2.4 (from praw)\n",
      "  Obtaining dependency information for prawcore<3,>=2.4 from https://files.pythonhosted.org/packages/96/5c/8af904314e42d5401afcfaff69940dc448e974f80f7aa39b241a4fbf0cf1/prawcore-2.4.0-py3-none-any.whl.metadata\n",
      "  Downloading prawcore-2.4.0-py3-none-any.whl.metadata (5.0 kB)\n",
      "Collecting update_checker>=0.18 (from praw)\n",
      "  Obtaining dependency information for update_checker>=0.18 from https://files.pythonhosted.org/packages/0c/ba/8dd7fa5f0b1c6a8ac62f8f57f7e794160c1f86f31c6d0fb00f582372a3e4/update_checker-0.18.0-py3-none-any.whl.metadata\n",
      "  Downloading update_checker-0.18.0-py3-none-any.whl.metadata (2.3 kB)\n",
      "Requirement already satisfied: websocket-client>=0.54.0 in d:\\pycharm projekt für unternehmenssoftware\\unternehmenssoftware\\.venv\\lib\\site-packages (from praw) (1.8.0)\n",
      "Requirement already satisfied: requests<3.0,>=2.6.0 in d:\\pycharm projekt für unternehmenssoftware\\unternehmenssoftware\\.venv\\lib\\site-packages (from prawcore<3,>=2.4->praw) (2.32.4)\n",
      "Requirement already satisfied: charset_normalizer<4,>=2 in d:\\pycharm projekt für unternehmenssoftware\\unternehmenssoftware\\.venv\\lib\\site-packages (from requests<3.0,>=2.6.0->prawcore<3,>=2.4->praw) (3.4.2)\n",
      "Requirement already satisfied: idna<4,>=2.5 in d:\\pycharm projekt für unternehmenssoftware\\unternehmenssoftware\\.venv\\lib\\site-packages (from requests<3.0,>=2.6.0->prawcore<3,>=2.4->praw) (3.10)\n",
      "Requirement already satisfied: urllib3<3,>=1.21.1 in d:\\pycharm projekt für unternehmenssoftware\\unternehmenssoftware\\.venv\\lib\\site-packages (from requests<3.0,>=2.6.0->prawcore<3,>=2.4->praw) (2.5.0)\n",
      "Requirement already satisfied: certifi>=2017.4.17 in d:\\pycharm projekt für unternehmenssoftware\\unternehmenssoftware\\.venv\\lib\\site-packages (from requests<3.0,>=2.6.0->prawcore<3,>=2.4->praw) (2025.6.15)\n",
      "Downloading praw-7.8.1-py3-none-any.whl (189 kB)\n",
      "   ---------------------------------------- 0.0/189.3 kB ? eta -:--:--\n",
      "   ----------------- ---------------------- 81.9/189.3 kB 4.5 MB/s eta 0:00:01\n",
      "   ---------------------------------------- 189.3/189.3 kB 2.8 MB/s eta 0:00:00\n",
      "Downloading prawcore-2.4.0-py3-none-any.whl (17 kB)\n",
      "Downloading update_checker-0.18.0-py3-none-any.whl (7.0 kB)\n",
      "Installing collected packages: update_checker, prawcore, praw\n",
      "Successfully installed praw-7.8.1 prawcore-2.4.0 update_checker-0.18.0\n",
      "Note: you may need to restart the kernel to use updated packages.\n"
     ]
    },
    {
     "name": "stderr",
     "output_type": "stream",
     "text": [
      "\n",
      "[notice] A new release of pip is available: 23.2.1 -> 25.1.1\n",
      "[notice] To update, run: D:\\pycharm projekt für unternehmenssoftware\\Unternehmenssoftware\\.venv\\Scripts\\python.exe -m pip install --upgrade pip\n"
     ]
    }
   ],
   "execution_count": 110
  },
  {
   "metadata": {
    "ExecuteTime": {
     "end_time": "2025-06-27T03:45:49.109948Z",
     "start_time": "2025-06-27T03:45:49.030876Z"
    }
   },
   "cell_type": "code",
   "source": [
    "import pandas as pd\n",
    "import os\n",
    "\n",
    "input_csv = \"C:/Users/Laura/Downloads/2025-06-26_schleswig-holstein.csv\"\n",
    "output_dir = \"data/raw\"\n",
    "output_csv = os.path.join(output_dir, \"brands.csv\")\n",
    "\n",
    "df = pd.read_csv(input_csv)\n",
    "brands = (\n",
    "    df[\"brand\"]\n",
    "    .dropna()                                 \n",
    "    .astype(str)\n",
    "    .str.strip()\n",
    "    .loc[lambda x: x.str.upper() != \"NA\"]     # Remove \"NA\"\n",
    "    .str.lower()\n",
    "    .unique()\n",
    "    .tolist()\n",
    ")\n",
    "os.makedirs(output_dir, exist_ok=True)\n",
    "pd.DataFrame({\"brand\": brands}).to_csv(output_csv, index=False)\n",
    "\n",
    "print(f\"✅ Extracted {len(brands)} unique brand(s) to {output_csv}\")"
   ],
   "id": "7b30a9c96da38428",
   "outputs": [
    {
     "name": "stdout",
     "output_type": "stream",
     "text": [
      "✅ Extracted 1341 unique brand(s) to data/raw\\brands.csv\n"
     ]
    }
   ],
   "execution_count": 112
  },
  {
   "metadata": {
    "ExecuteTime": {
     "end_time": "2025-06-27T05:17:09.034375Z",
     "start_time": "2025-06-27T05:17:08.829144Z"
    }
   },
   "cell_type": "code",
   "source": [
    "from transformers import pipeline\n",
    "\n",
    "# Load the classification pipeline with the specified model\n",
    "pipe = pipeline(\"text-classification\", model=\"tabularisai/multilingual-sentiment-analysis\")\n",
    "\n",
    "# Classify a new sentence\n",
    "sentence = \"I love this product! It's amazing and works perfectly.\"\n",
    "result = pipe(sentence)\n",
    "\n",
    "# Print the result\n",
    "print(result)\n"
   ],
   "id": "9b654fce483a7bf8",
   "outputs": [
    {
     "ename": "NameError",
     "evalue": "name 'torch' is not defined",
     "output_type": "error",
     "traceback": [
      "\u001B[1;31m---------------------------------------------------------------------------\u001B[0m",
      "\u001B[1;31mNameError\u001B[0m                                 Traceback (most recent call last)",
      "Cell \u001B[1;32mIn[115], line 4\u001B[0m\n\u001B[0;32m      1\u001B[0m \u001B[38;5;28;01mfrom\u001B[39;00m\u001B[38;5;250m \u001B[39m\u001B[38;5;21;01mtransformers\u001B[39;00m\u001B[38;5;250m \u001B[39m\u001B[38;5;28;01mimport\u001B[39;00m pipeline\n\u001B[0;32m      3\u001B[0m \u001B[38;5;66;03m# Load the classification pipeline with the specified model\u001B[39;00m\n\u001B[1;32m----> 4\u001B[0m pipe \u001B[38;5;241m=\u001B[39m \u001B[43mpipeline\u001B[49m\u001B[43m(\u001B[49m\u001B[38;5;124;43m\"\u001B[39;49m\u001B[38;5;124;43mtext-classification\u001B[39;49m\u001B[38;5;124;43m\"\u001B[39;49m\u001B[43m,\u001B[49m\u001B[43m \u001B[49m\u001B[43mmodel\u001B[49m\u001B[38;5;241;43m=\u001B[39;49m\u001B[38;5;124;43m\"\u001B[39;49m\u001B[38;5;124;43mtabularisai/multilingual-sentiment-analysis\u001B[39;49m\u001B[38;5;124;43m\"\u001B[39;49m\u001B[43m)\u001B[49m\n\u001B[0;32m      6\u001B[0m \u001B[38;5;66;03m# Classify a new sentence\u001B[39;00m\n\u001B[0;32m      7\u001B[0m sentence \u001B[38;5;241m=\u001B[39m \u001B[38;5;124m\"\u001B[39m\u001B[38;5;124mI love this product! It\u001B[39m\u001B[38;5;124m'\u001B[39m\u001B[38;5;124ms amazing and works perfectly.\u001B[39m\u001B[38;5;124m\"\u001B[39m\n",
      "File \u001B[1;32mD:\\pycharm projekt für unternehmenssoftware\\Unternehmenssoftware\\.venv\\lib\\site-packages\\transformers\\pipelines\\__init__.py:1020\u001B[0m, in \u001B[0;36mpipeline\u001B[1;34m(task, model, config, tokenizer, feature_extractor, image_processor, processor, framework, revision, use_fast, token, device, device_map, torch_dtype, trust_remote_code, model_kwargs, pipeline_class, **kwargs)\u001B[0m\n\u001B[0;32m   1015\u001B[0m         \u001B[38;5;28;01mraise\u001B[39;00m \u001B[38;5;167;01mValueError\u001B[39;00m(\n\u001B[0;32m   1016\u001B[0m             \u001B[38;5;124m'\u001B[39m\u001B[38;5;124mYou cannot use both `pipeline(... torch_dtype=..., model_kwargs=\u001B[39m\u001B[38;5;124m{\u001B[39m\u001B[38;5;124m\"\u001B[39m\u001B[38;5;124mtorch_dtype\u001B[39m\u001B[38;5;124m\"\u001B[39m\u001B[38;5;124m:...})` as those\u001B[39m\u001B[38;5;124m'\u001B[39m\n\u001B[0;32m   1017\u001B[0m             \u001B[38;5;124m\"\u001B[39m\u001B[38;5;124m arguments might conflict, use only one.)\u001B[39m\u001B[38;5;124m\"\u001B[39m\n\u001B[0;32m   1018\u001B[0m         )\n\u001B[0;32m   1019\u001B[0m \u001B[38;5;28;01mif\u001B[39;00m torch_dtype \u001B[38;5;129;01mis\u001B[39;00m \u001B[38;5;129;01mnot\u001B[39;00m \u001B[38;5;28;01mNone\u001B[39;00m:\n\u001B[1;32m-> 1020\u001B[0m     \u001B[38;5;28;01mif\u001B[39;00m \u001B[38;5;28misinstance\u001B[39m(torch_dtype, \u001B[38;5;28mstr\u001B[39m) \u001B[38;5;129;01mand\u001B[39;00m \u001B[38;5;28mhasattr\u001B[39m(\u001B[43mtorch\u001B[49m, torch_dtype):\n\u001B[0;32m   1021\u001B[0m         torch_dtype \u001B[38;5;241m=\u001B[39m \u001B[38;5;28mgetattr\u001B[39m(torch, torch_dtype)\n\u001B[0;32m   1022\u001B[0m     model_kwargs[\u001B[38;5;124m\"\u001B[39m\u001B[38;5;124mtorch_dtype\u001B[39m\u001B[38;5;124m\"\u001B[39m] \u001B[38;5;241m=\u001B[39m torch_dtype\n",
      "\u001B[1;31mNameError\u001B[0m: name 'torch' is not defined"
     ]
    }
   ],
   "execution_count": 115
  }
 ],
 "metadata": {
  "kernelspec": {
   "display_name": "Python 3",
   "language": "python",
   "name": "python3"
  },
  "language_info": {
   "codemirror_mode": {
    "name": "ipython",
    "version": 2
   },
   "file_extension": ".py",
   "mimetype": "text/x-python",
   "name": "python",
   "nbconvert_exporter": "python",
   "pygments_lexer": "ipython2",
   "version": "2.7.6"
  }
 },
 "nbformat": 4,
 "nbformat_minor": 5
}
